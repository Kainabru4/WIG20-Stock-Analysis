{
 "cells": [
  {
   "cell_type": "code",
   "execution_count": 15,
   "metadata": {},
   "outputs": [],
   "source": [
    "#importing packages\n",
    "\n",
    "import pandas as pd\n",
    "\n",
    "import nltk\n",
    "import spacy\n",
    "\n",
    "from nltk.tokenize import word_tokenize\n",
    "from spacy.tokens import Token\n",
    "\n",
    "import re\n",
    "import stopwordsiso as stopwords"
   ]
  },
  {
   "cell_type": "code",
   "execution_count": 16,
   "metadata": {},
   "outputs": [
    {
     "name": "stderr",
     "output_type": "stream",
     "text": [
      "[nltk_data] Downloading package punkt_tab to\n",
      "[nltk_data]     C:\\Users\\furba\\AppData\\Roaming\\nltk_data...\n",
      "[nltk_data]   Unzipping tokenizers\\punkt_tab.zip.\n"
     ]
    },
    {
     "data": {
      "text/plain": [
       "True"
      ]
     },
     "execution_count": 16,
     "metadata": {},
     "output_type": "execute_result"
    }
   ],
   "source": [
    "nltk.download('punkt_tab')"
   ]
  },
  {
   "cell_type": "code",
   "execution_count": 17,
   "metadata": {},
   "outputs": [],
   "source": [
    "nlp = spacy.load('pl_core_news_sm')"
   ]
  },
  {
   "cell_type": "code",
   "execution_count": 18,
   "metadata": {},
   "outputs": [],
   "source": [
    "#setting table display options\n",
    "\n",
    "#pd.set_option('display.max_rows', None)\n",
    "pd.set_option('display.max_colwidth', None)"
   ]
  },
  {
   "cell_type": "code",
   "execution_count": 19,
   "metadata": {},
   "outputs": [],
   "source": [
    "articles_1 = pd.read_json('articledata.json') #reading article data\n",
    "articles_1['text'] = articles_1['text'].apply(\n",
    "    lambda x: str(x).replace('\\\\n', ' ') \n",
    "    if isinstance(x, (dict, list, str)) \n",
    "    else str(x)) #replacing \\\\n with space for dictionary, list or string and changing other datatypes to strings"
   ]
  },
  {
   "cell_type": "code",
   "execution_count": 20,
   "metadata": {},
   "outputs": [],
   "source": [
    "articles_2 = pd.read_json('articledata_2.json') #reading other article data\n",
    "articles_2['text'] = articles_2['text'].apply(\n",
    "    lambda x: str(x).replace('\\\\n', ' ') \n",
    "    if isinstance(x, (dict, list, str)) \n",
    "    else str(x)) #replacing \\\\n with space for dictionary, list or string and changing other datatypes to strings"
   ]
  },
  {
   "cell_type": "code",
   "execution_count": 21,
   "metadata": {},
   "outputs": [
    {
     "data": {
      "application/vnd.microsoft.datawrangler.viewer.v0+json": {
       "columns": [
        {
         "name": "index",
         "rawType": "int64",
         "type": "integer"
        },
        {
         "name": "url",
         "rawType": "object",
         "type": "string"
        },
        {
         "name": "date",
         "rawType": "datetime64[ns]",
         "type": "datetime"
        },
        {
         "name": "text",
         "rawType": "object",
         "type": "string"
        }
       ],
       "conversionMethod": "pd.DataFrame",
       "ref": "80e676cf-9304-4696-bdde-226666df9fee",
       "rows": [
        [
         "1",
         "https://www.bankier.pl/wiadomosc/To-pietro-przyciaga-WIG20-jak-magnes-Portfelowe-przetasowania-na-GPW-8804616.html?utm_source=RSS&utm_medium=RSS&utm_campaign=Wiadomosci",
         "2024-08-30 17:29:00",
         "['Ostatnia sesja miesiąca potwierdziła silne przywiązanie WIG20 do poziomu w okolicach 2400 pkt. W efekcie od połowy sierpnia obserwujemy trend boczny, z którego coraz trudniej się wyrwać. Portfelowe przetasowania zdecydowały o wyniku sesji i ogromnych obrotach.']"
        ],
        [
         "0",
         "https://www.bankier.pl/wiadomosc/Wyniki-goracych-spolek-i-parzacy-deficyt-budzetu-panstwa-8804278.html?utm_source=RSS&utm_medium=RSS&utm_campaign=Wiadomosci",
         "2024-08-30 13:30:00",
         "['Ostatni tydzień wakacji na rynkach finansowych był podporządkowany wynikom Nvidii. Inwestorzy na krajowym parkiecie dostali natomiast raport CD Projektu. Kurs największego polskiego studia gier jest w tym roku najlepszy w portfelu spółek z WIG20, ale jego cena akcji zdaje się być coraz bardziej wymagająca. Nie ominiemy także podsumowania rywalizacji w grze giełdowej „Wakacje na giełdzie”.']"
        ],
        [
         "2",
         "https://www.bankier.pl/wiadomosc/Widoczna-slabosc-WIG20-Budzetowe-sesja-na-GPW-8803440.html?utm_source=RSS&utm_medium=RSS&utm_campaign=Wiadomosci",
         "2024-08-28 17:03:00",
         "['Środkowa sesja tygodnia zakończyła się spadkami głównych indeksów na GPW, co kontrastowało ze wzrostami na najważniejszych parkietach europejskich rynków bazowych. Mocno ciążyła słabość złotego, a echem odbijały się szczegóły projektu budżetu państwa.\\xa0']"
        ],
        [
         "4",
         "https://www.bankier.pl/wiadomosc/Ostatnia-godzina-zadecydowala-o-wynikach-sesji-na-GPW-WIG20-na-plusie-8802920.html?utm_source=RSS&utm_medium=RSS&utm_campaign=Wiadomosci",
         "2024-08-27 17:34:00",
         "['Nerwowa sesja na GPW zakończyła się ostatecznie zielonym kolorem dla WIG20, mWIG40 i WIG, dzięki mocnej ostatniej godzinie handlu. Głównym rozdającym były banki, których przecena ciążyła przez większość sesji głównym indeksom. Odrabianie strat w końcówce pozwoliło jednak przy wzrostach innych sektorów zakończyć dzień na plusie.']"
        ],
        [
         "5",
         "https://www.bankier.pl/wiadomosc/Wyniki-spolek-miliarderow-dane-z-polskiej-gospodarki-i-amerykanski-rozgrywajacy-8801140.html?utm_source=RSS&utm_medium=RSS&utm_campaign=Wiadomosci",
         "2024-08-23 15:45:00",
         "['Mijający tydzień obfitował w dane makro z polskiej gospodarki, ale też wyniki największych spółek z WIG20. Tempo inwestycyjnej gry nadawane było jednak przez Amerykanów, oczekujących, jak reszta rynków finansowych, na przekaz płynący z dorocznej konferencji bankierów centralnych z Jackson Hole. W podsumowaniu giełdowego tygodnia rozmawiamy z Sobiesławem Kozłowskim z Noble Securities.']"
        ]
       ],
       "shape": {
        "columns": 3,
        "rows": 5
       }
      },
      "text/html": [
       "<div>\n",
       "<style scoped>\n",
       "    .dataframe tbody tr th:only-of-type {\n",
       "        vertical-align: middle;\n",
       "    }\n",
       "\n",
       "    .dataframe tbody tr th {\n",
       "        vertical-align: top;\n",
       "    }\n",
       "\n",
       "    .dataframe thead th {\n",
       "        text-align: right;\n",
       "    }\n",
       "</style>\n",
       "<table border=\"1\" class=\"dataframe\">\n",
       "  <thead>\n",
       "    <tr style=\"text-align: right;\">\n",
       "      <th></th>\n",
       "      <th>url</th>\n",
       "      <th>date</th>\n",
       "      <th>text</th>\n",
       "    </tr>\n",
       "  </thead>\n",
       "  <tbody>\n",
       "    <tr>\n",
       "      <th>1</th>\n",
       "      <td>https://www.bankier.pl/wiadomosc/To-pietro-przyciaga-WIG20-jak-magnes-Portfelowe-przetasowania-na-GPW-8804616.html?utm_source=RSS&amp;utm_medium=RSS&amp;utm_campaign=Wiadomosci</td>\n",
       "      <td>2024-08-30 17:29:00</td>\n",
       "      <td>['Ostatnia sesja miesiąca potwierdziła silne przywiązanie WIG20 do poziomu w okolicach 2400 pkt. W efekcie od połowy sierpnia obserwujemy trend boczny, z którego coraz trudniej się wyrwać. Portfelowe przetasowania zdecydowały o wyniku sesji i ogromnych obrotach.']</td>\n",
       "    </tr>\n",
       "    <tr>\n",
       "      <th>0</th>\n",
       "      <td>https://www.bankier.pl/wiadomosc/Wyniki-goracych-spolek-i-parzacy-deficyt-budzetu-panstwa-8804278.html?utm_source=RSS&amp;utm_medium=RSS&amp;utm_campaign=Wiadomosci</td>\n",
       "      <td>2024-08-30 13:30:00</td>\n",
       "      <td>['Ostatni tydzień wakacji na rynkach finansowych był podporządkowany wynikom Nvidii. Inwestorzy na krajowym parkiecie dostali natomiast raport CD Projektu. Kurs największego polskiego studia gier jest w tym roku najlepszy w portfelu spółek z WIG20, ale jego cena akcji zdaje się być coraz bardziej wymagająca. Nie ominiemy także podsumowania rywalizacji w grze giełdowej „Wakacje na giełdzie”.']</td>\n",
       "    </tr>\n",
       "    <tr>\n",
       "      <th>2</th>\n",
       "      <td>https://www.bankier.pl/wiadomosc/Widoczna-slabosc-WIG20-Budzetowe-sesja-na-GPW-8803440.html?utm_source=RSS&amp;utm_medium=RSS&amp;utm_campaign=Wiadomosci</td>\n",
       "      <td>2024-08-28 17:03:00</td>\n",
       "      <td>['Środkowa sesja tygodnia zakończyła się spadkami głównych indeksów na GPW, co kontrastowało ze wzrostami na najważniejszych parkietach europejskich rynków bazowych. Mocno ciążyła słabość złotego, a echem odbijały się szczegóły projektu budżetu państwa.\\xa0']</td>\n",
       "    </tr>\n",
       "    <tr>\n",
       "      <th>4</th>\n",
       "      <td>https://www.bankier.pl/wiadomosc/Ostatnia-godzina-zadecydowala-o-wynikach-sesji-na-GPW-WIG20-na-plusie-8802920.html?utm_source=RSS&amp;utm_medium=RSS&amp;utm_campaign=Wiadomosci</td>\n",
       "      <td>2024-08-27 17:34:00</td>\n",
       "      <td>['Nerwowa sesja na GPW zakończyła się ostatecznie zielonym kolorem dla WIG20, mWIG40 i WIG, dzięki mocnej ostatniej godzinie handlu. Głównym rozdającym były banki, których przecena ciążyła przez większość sesji głównym indeksom. Odrabianie strat w końcówce pozwoliło jednak przy wzrostach innych sektorów zakończyć dzień na plusie.']</td>\n",
       "    </tr>\n",
       "    <tr>\n",
       "      <th>5</th>\n",
       "      <td>https://www.bankier.pl/wiadomosc/Wyniki-spolek-miliarderow-dane-z-polskiej-gospodarki-i-amerykanski-rozgrywajacy-8801140.html?utm_source=RSS&amp;utm_medium=RSS&amp;utm_campaign=Wiadomosci</td>\n",
       "      <td>2024-08-23 15:45:00</td>\n",
       "      <td>['Mijający tydzień obfitował w dane makro z polskiej gospodarki, ale też wyniki największych spółek z WIG20. Tempo inwestycyjnej gry nadawane było jednak przez Amerykanów, oczekujących, jak reszta rynków finansowych, na przekaz płynący z dorocznej konferencji bankierów centralnych z Jackson Hole. W podsumowaniu giełdowego tygodnia rozmawiamy z Sobiesławem Kozłowskim z Noble Securities.']</td>\n",
       "    </tr>\n",
       "  </tbody>\n",
       "</table>\n",
       "</div>"
      ],
      "text/plain": [
       "                                                                                                                                                                                   url  \\\n",
       "1             https://www.bankier.pl/wiadomosc/To-pietro-przyciaga-WIG20-jak-magnes-Portfelowe-przetasowania-na-GPW-8804616.html?utm_source=RSS&utm_medium=RSS&utm_campaign=Wiadomosci   \n",
       "0                         https://www.bankier.pl/wiadomosc/Wyniki-goracych-spolek-i-parzacy-deficyt-budzetu-panstwa-8804278.html?utm_source=RSS&utm_medium=RSS&utm_campaign=Wiadomosci   \n",
       "2                                    https://www.bankier.pl/wiadomosc/Widoczna-slabosc-WIG20-Budzetowe-sesja-na-GPW-8803440.html?utm_source=RSS&utm_medium=RSS&utm_campaign=Wiadomosci   \n",
       "4            https://www.bankier.pl/wiadomosc/Ostatnia-godzina-zadecydowala-o-wynikach-sesji-na-GPW-WIG20-na-plusie-8802920.html?utm_source=RSS&utm_medium=RSS&utm_campaign=Wiadomosci   \n",
       "5  https://www.bankier.pl/wiadomosc/Wyniki-spolek-miliarderow-dane-z-polskiej-gospodarki-i-amerykanski-rozgrywajacy-8801140.html?utm_source=RSS&utm_medium=RSS&utm_campaign=Wiadomosci   \n",
       "\n",
       "                 date  \\\n",
       "1 2024-08-30 17:29:00   \n",
       "0 2024-08-30 13:30:00   \n",
       "2 2024-08-28 17:03:00   \n",
       "4 2024-08-27 17:34:00   \n",
       "5 2024-08-23 15:45:00   \n",
       "\n",
       "                                                                                                                                                                                                                                                                                                                                                                                                          text  \n",
       "1                                                                                                                                     ['Ostatnia sesja miesiąca potwierdziła silne przywiązanie WIG20 do poziomu w okolicach 2400 pkt. W efekcie od połowy sierpnia obserwujemy trend boczny, z którego coraz trudniej się wyrwać. Portfelowe przetasowania zdecydowały o wyniku sesji i ogromnych obrotach.']  \n",
       "0  ['Ostatni tydzień wakacji na rynkach finansowych był podporządkowany wynikom Nvidii. Inwestorzy na krajowym parkiecie dostali natomiast raport CD Projektu. Kurs największego polskiego studia gier jest w tym roku najlepszy w portfelu spółek z WIG20, ale jego cena akcji zdaje się być coraz bardziej wymagająca. Nie ominiemy także podsumowania rywalizacji w grze giełdowej „Wakacje na giełdzie”.']  \n",
       "2                                                                                                                                          ['Środkowa sesja tygodnia zakończyła się spadkami głównych indeksów na GPW, co kontrastowało ze wzrostami na najważniejszych parkietach europejskich rynków bazowych. Mocno ciążyła słabość złotego, a echem odbijały się szczegóły projektu budżetu państwa.\\xa0']  \n",
       "4                                                                ['Nerwowa sesja na GPW zakończyła się ostatecznie zielonym kolorem dla WIG20, mWIG40 i WIG, dzięki mocnej ostatniej godzinie handlu. Głównym rozdającym były banki, których przecena ciążyła przez większość sesji głównym indeksom. Odrabianie strat w końcówce pozwoliło jednak przy wzrostach innych sektorów zakończyć dzień na plusie.']  \n",
       "5       ['Mijający tydzień obfitował w dane makro z polskiej gospodarki, ale też wyniki największych spółek z WIG20. Tempo inwestycyjnej gry nadawane było jednak przez Amerykanów, oczekujących, jak reszta rynków finansowych, na przekaz płynący z dorocznej konferencji bankierów centralnych z Jackson Hole. W podsumowaniu giełdowego tygodnia rozmawiamy z Sobiesławem Kozłowskim z Noble Securities.']  "
      ]
     },
     "execution_count": 21,
     "metadata": {},
     "output_type": "execute_result"
    }
   ],
   "source": [
    "articles = pd.concat([articles_1, articles_2], axis=0) #concatanaiting both article data\n",
    "articles = articles.drop_duplicates() #removing duplicates\n",
    "articles = articles.sort_values(by='date', ascending=False) #sorting articles by date\n",
    "articles.head()"
   ]
  },
  {
   "cell_type": "code",
   "execution_count": 22,
   "metadata": {},
   "outputs": [
    {
     "data": {
      "text/plain": [
       "(247, 3)"
      ]
     },
     "execution_count": 22,
     "metadata": {},
     "output_type": "execute_result"
    }
   ],
   "source": [
    "articles.shape"
   ]
  },
  {
   "cell_type": "code",
   "execution_count": 23,
   "metadata": {},
   "outputs": [],
   "source": [
    "def regex(clean):\n",
    "    clean = re.sub(r'[^a-zA-ZąćęłńóśźżĄĆĘŁŃÓŚŹŻ\\s]', '', clean) #removes non-letters, polish characters and space\n",
    "    clean = clean.lower() #converts every letter to lowercase\n",
    "    return clean"
   ]
  },
  {
   "cell_type": "code",
   "execution_count": 24,
   "metadata": {},
   "outputs": [],
   "source": [
    "def tokenizer(clean):\n",
    "    tokens =  word_tokenize(clean, language='polish') #tokenizes cleaned text into individual words using polish settings\n",
    "    return ' '.join(tokens) #joins tokens together with spaces inbetween"
   ]
  },
  {
   "cell_type": "code",
   "execution_count": 25,
   "metadata": {},
   "outputs": [],
   "source": [
    "stop_words = stopwords.stopwords('pl') #defines stopwords in polish"
   ]
  },
  {
   "cell_type": "code",
   "execution_count": 26,
   "metadata": {},
   "outputs": [],
   "source": [
    "def remove_stop_words(tokens):\n",
    "    return [word for word in tokens if word not in stop_words] #returns tokens with stopwords removed"
   ]
  },
  {
   "cell_type": "code",
   "execution_count": 27,
   "metadata": {},
   "outputs": [],
   "source": [
    "#converts every token in text to its base-root\n",
    "def lemmatizer(text):\n",
    "    doc = nlp(text)\n",
    "    lemmas = [token.lemma_ for token in doc]\n",
    "    return lemmas "
   ]
  },
  {
   "cell_type": "code",
   "execution_count": 28,
   "metadata": {},
   "outputs": [],
   "source": [
    "#applying all the above operations to text and creating final articles\n",
    "\n",
    "cleaned_articles = articles['text'].apply(regex) #cleaning\n",
    "tokenized_articles = cleaned_articles.apply(tokenizer) #tokenization\n",
    "lemmatized_articles = tokenized_articles.apply(lemmatizer) #lemmatization\n",
    "final_articles = lemmatized_articles.apply(remove_stop_words) #stopwords removal"
   ]
  },
  {
   "cell_type": "code",
   "execution_count": 29,
   "metadata": {},
   "outputs": [
    {
     "data": {
      "application/vnd.microsoft.datawrangler.viewer.v0+json": {
       "columns": [
        {
         "name": "index",
         "rawType": "int64",
         "type": "integer"
        },
        {
         "name": "word",
         "rawType": "object",
         "type": "string"
        },
        {
         "name": "class",
         "rawType": "object",
         "type": "string"
        },
        {
         "name": "2_fold",
         "rawType": "int64",
         "type": "integer"
        },
        {
         "name": "3_fold",
         "rawType": "int64",
         "type": "integer"
        },
        {
         "name": "5_fold",
         "rawType": "int64",
         "type": "integer"
        },
        {
         "name": "SO_PMI",
         "rawType": "float64",
         "type": "float"
        }
       ],
       "conversionMethod": "pd.DataFrame",
       "ref": "74cd2abe-8ddc-49ee-aa34-9b65271a123d",
       "rows": [
        [
         "0",
         "poddany",
         "c",
         "0",
         "-1",
         "-1",
         "-4.6"
        ],
        [
         "1",
         "przewrażliwiony",
         "m",
         "1",
         "1",
         "-2",
         "-3.6"
        ],
        [
         "2",
         "cudzoziemiec",
         "c",
         "0",
         "0",
         "0",
         "-2.6"
        ],
        [
         "3",
         "przekonywać",
         "m",
         "1",
         "1",
         "0",
         "-1.8"
        ],
        [
         "4",
         "skrupuł",
         "c",
         "1",
         "1",
         "1",
         "-3.0"
        ]
       ],
       "shape": {
        "columns": 6,
        "rows": 5
       }
      },
      "text/html": [
       "<div>\n",
       "<style scoped>\n",
       "    .dataframe tbody tr th:only-of-type {\n",
       "        vertical-align: middle;\n",
       "    }\n",
       "\n",
       "    .dataframe tbody tr th {\n",
       "        vertical-align: top;\n",
       "    }\n",
       "\n",
       "    .dataframe thead th {\n",
       "        text-align: right;\n",
       "    }\n",
       "</style>\n",
       "<table border=\"1\" class=\"dataframe\">\n",
       "  <thead>\n",
       "    <tr style=\"text-align: right;\">\n",
       "      <th></th>\n",
       "      <th>word</th>\n",
       "      <th>class</th>\n",
       "      <th>2_fold</th>\n",
       "      <th>3_fold</th>\n",
       "      <th>5_fold</th>\n",
       "      <th>SO_PMI</th>\n",
       "    </tr>\n",
       "  </thead>\n",
       "  <tbody>\n",
       "    <tr>\n",
       "      <th>0</th>\n",
       "      <td>poddany</td>\n",
       "      <td>c</td>\n",
       "      <td>0</td>\n",
       "      <td>-1</td>\n",
       "      <td>-1</td>\n",
       "      <td>-4.6</td>\n",
       "    </tr>\n",
       "    <tr>\n",
       "      <th>1</th>\n",
       "      <td>przewrażliwiony</td>\n",
       "      <td>m</td>\n",
       "      <td>1</td>\n",
       "      <td>1</td>\n",
       "      <td>-2</td>\n",
       "      <td>-3.6</td>\n",
       "    </tr>\n",
       "    <tr>\n",
       "      <th>2</th>\n",
       "      <td>cudzoziemiec</td>\n",
       "      <td>c</td>\n",
       "      <td>0</td>\n",
       "      <td>0</td>\n",
       "      <td>0</td>\n",
       "      <td>-2.6</td>\n",
       "    </tr>\n",
       "    <tr>\n",
       "      <th>3</th>\n",
       "      <td>przekonywać</td>\n",
       "      <td>m</td>\n",
       "      <td>1</td>\n",
       "      <td>1</td>\n",
       "      <td>0</td>\n",
       "      <td>-1.8</td>\n",
       "    </tr>\n",
       "    <tr>\n",
       "      <th>4</th>\n",
       "      <td>skrupuł</td>\n",
       "      <td>c</td>\n",
       "      <td>1</td>\n",
       "      <td>1</td>\n",
       "      <td>1</td>\n",
       "      <td>-3.0</td>\n",
       "    </tr>\n",
       "  </tbody>\n",
       "</table>\n",
       "</div>"
      ],
      "text/plain": [
       "              word class  2_fold  3_fold  5_fold  SO_PMI\n",
       "0          poddany     c       0      -1      -1    -4.6\n",
       "1  przewrażliwiony     m       1       1      -2    -3.6\n",
       "2     cudzoziemiec     c       0       0       0    -2.6\n",
       "3      przekonywać     m       1       1       0    -1.8\n",
       "4          skrupuł     c       1       1       1    -3.0"
      ]
     },
     "execution_count": 29,
     "metadata": {},
     "output_type": "execute_result"
    }
   ],
   "source": [
    "pl_dict = pd.DataFrame(pd.read_csv('slownikWydzwieku01.csv', sep='\\t', names=['word', \n",
    "                                                                              'class', \n",
    "                                                                              '2_fold', \n",
    "                                                                              '3_fold', \n",
    "                                                                              '5_fold', \n",
    "                                                                              'SO_PMI'])) #reading polish dictionary and naming columns\n",
    "pl_dict.head()"
   ]
  },
  {
   "cell_type": "code",
   "execution_count": 30,
   "metadata": {},
   "outputs": [],
   "source": [
    "def sentiment_analysis(article_words):\n",
    "    \n",
    "    score_2_fold = 0\n",
    "    score_3_fold = 0\n",
    "    score_SO_PMI = 0\n",
    "    matched_words_count = 0\n",
    "    \n",
    "    for word in article_words:\n",
    "        match = pl_dict[pl_dict['word'] == word]\n",
    "        if not match.empty:\n",
    "            score_2_fold += match.iloc[0]['2_fold']\n",
    "            score_3_fold += match.iloc[0]['3_fold']\n",
    "            score_SO_PMI += match.iloc[0]['SO_PMI']\n",
    "            matched_words_count += 1\n",
    "    \n",
    "    if matched_words_count > 0:        \n",
    "        normalized_score_2_fold = score_2_fold / matched_words_count\n",
    "        normalized_score_3_fold = score_3_fold / matched_words_count\n",
    "        normalized_score_SO_PMI = score_SO_PMI / matched_words_count\n",
    "    else:\n",
    "        normalized_score_2_fold = 0\n",
    "        normalized_score_3_fold = 0\n",
    "        normalized_score_SO_PMI = 0\n",
    "    \n",
    "    return normalized_score_2_fold, normalized_score_3_fold, normalized_score_SO_PMI"
   ]
  },
  {
   "cell_type": "code",
   "execution_count": 31,
   "metadata": {},
   "outputs": [],
   "source": [
    "articles['processed_text'] = final_articles\n",
    "sentiment_scores = articles['processed_text'].apply(sentiment_analysis)\n",
    "articles[['sentiment_score_2_fold', \n",
    "          'sentiment_score_3_fold', \n",
    "          'sentiment_score_SO_PMI']] = pd.DataFrame(sentiment_scores.tolist(), index=articles.index)"
   ]
  },
  {
   "cell_type": "code",
   "execution_count": 32,
   "metadata": {},
   "outputs": [],
   "source": [
    "articles.loc[articles['sentiment_score_2_fold'] < 0.3, 'sentiment_score_2_fold'] = 0 #negative\n",
    "articles.loc[articles['sentiment_score_2_fold'] >= 0.3, 'sentiment_score_2_fold'] = 1 #positive\n",
    "\n",
    "articles.loc[articles['sentiment_score_3_fold'] < 0.2, 'sentiment_score_3_fold'] = -1 #negative\n",
    "articles.loc[(articles['sentiment_score_3_fold'] >= 0.2) & (articles['sentiment_score_3_fold'] < 0.4), 'sentiment_score_3_fold'] = 0 #neutral\n",
    "articles.loc[articles['sentiment_score_3_fold'] >= 0.4, 'sentiment_score_3_fold'] = 1 #positive "
   ]
  },
  {
   "cell_type": "code",
   "execution_count": 33,
   "metadata": {},
   "outputs": [
    {
     "data": {
      "application/vnd.microsoft.datawrangler.viewer.v0+json": {
       "columns": [
        {
         "name": "index",
         "rawType": "int64",
         "type": "integer"
        },
        {
         "name": "date",
         "rawType": "object",
         "type": "unknown"
        },
        {
         "name": "text",
         "rawType": "object",
         "type": "string"
        },
        {
         "name": "sentiment_score_2_fold",
         "rawType": "float64",
         "type": "float"
        },
        {
         "name": "sentiment_score_3_fold",
         "rawType": "float64",
         "type": "float"
        },
        {
         "name": "sentiment_score_SO_PMI",
         "rawType": "float64",
         "type": "float"
        }
       ],
       "conversionMethod": "pd.DataFrame",
       "ref": "0d91d099-c0d5-443a-b9ed-5ced02d8fe87",
       "rows": [
        [
         "1",
         "2024-08-30",
         "['Ostatnia sesja miesiąca potwierdziła silne przywiązanie WIG20 do poziomu w okolicach 2400 pkt. W efekcie od połowy sierpnia obserwujemy trend boczny, z którego coraz trudniej się wyrwać. Portfelowe przetasowania zdecydowały o wyniku sesji i ogromnych obrotach.']",
         "1.0",
         "0.0",
         "1.98"
        ],
        [
         "0",
         "2024-08-30",
         "['Ostatni tydzień wakacji na rynkach finansowych był podporządkowany wynikom Nvidii. Inwestorzy na krajowym parkiecie dostali natomiast raport CD Projektu. Kurs największego polskiego studia gier jest w tym roku najlepszy w portfelu spółek z WIG20, ale jego cena akcji zdaje się być coraz bardziej wymagająca. Nie ominiemy także podsumowania rywalizacji w grze giełdowej „Wakacje na giełdzie”.']",
         "1.0",
         "0.0",
         "1.99"
        ],
        [
         "2",
         "2024-08-28",
         "['Środkowa sesja tygodnia zakończyła się spadkami głównych indeksów na GPW, co kontrastowało ze wzrostami na najważniejszych parkietach europejskich rynków bazowych. Mocno ciążyła słabość złotego, a echem odbijały się szczegóły projektu budżetu państwa.\\xa0']",
         "1.0",
         "0.0",
         "2.73"
        ],
        [
         "4",
         "2024-08-27",
         "['Nerwowa sesja na GPW zakończyła się ostatecznie zielonym kolorem dla WIG20, mWIG40 i WIG, dzięki mocnej ostatniej godzinie handlu. Głównym rozdającym były banki, których przecena ciążyła przez większość sesji głównym indeksom. Odrabianie strat w końcówce pozwoliło jednak przy wzrostach innych sektorów zakończyć dzień na plusie.']",
         "0.0",
         "-1.0",
         "0.74"
        ],
        [
         "5",
         "2024-08-23",
         "['Mijający tydzień obfitował w dane makro z polskiej gospodarki, ale też wyniki największych spółek z WIG20. Tempo inwestycyjnej gry nadawane było jednak przez Amerykanów, oczekujących, jak reszta rynków finansowych, na przekaz płynący z dorocznej konferencji bankierów centralnych z Jackson Hole. W podsumowaniu giełdowego tygodnia rozmawiamy z Sobiesławem Kozłowskim z Noble Securities.']",
         "1.0",
         "0.0",
         "1.98"
        ]
       ],
       "shape": {
        "columns": 5,
        "rows": 5
       }
      },
      "text/html": [
       "<div>\n",
       "<style scoped>\n",
       "    .dataframe tbody tr th:only-of-type {\n",
       "        vertical-align: middle;\n",
       "    }\n",
       "\n",
       "    .dataframe tbody tr th {\n",
       "        vertical-align: top;\n",
       "    }\n",
       "\n",
       "    .dataframe thead th {\n",
       "        text-align: right;\n",
       "    }\n",
       "</style>\n",
       "<table border=\"1\" class=\"dataframe\">\n",
       "  <thead>\n",
       "    <tr style=\"text-align: right;\">\n",
       "      <th></th>\n",
       "      <th>date</th>\n",
       "      <th>text</th>\n",
       "      <th>sentiment_score_2_fold</th>\n",
       "      <th>sentiment_score_3_fold</th>\n",
       "      <th>sentiment_score_SO_PMI</th>\n",
       "    </tr>\n",
       "  </thead>\n",
       "  <tbody>\n",
       "    <tr>\n",
       "      <th>1</th>\n",
       "      <td>2024-08-30</td>\n",
       "      <td>['Ostatnia sesja miesiąca potwierdziła silne przywiązanie WIG20 do poziomu w okolicach 2400 pkt. W efekcie od połowy sierpnia obserwujemy trend boczny, z którego coraz trudniej się wyrwać. Portfelowe przetasowania zdecydowały o wyniku sesji i ogromnych obrotach.']</td>\n",
       "      <td>1.0</td>\n",
       "      <td>0.0</td>\n",
       "      <td>1.98</td>\n",
       "    </tr>\n",
       "    <tr>\n",
       "      <th>0</th>\n",
       "      <td>2024-08-30</td>\n",
       "      <td>['Ostatni tydzień wakacji na rynkach finansowych był podporządkowany wynikom Nvidii. Inwestorzy na krajowym parkiecie dostali natomiast raport CD Projektu. Kurs największego polskiego studia gier jest w tym roku najlepszy w portfelu spółek z WIG20, ale jego cena akcji zdaje się być coraz bardziej wymagająca. Nie ominiemy także podsumowania rywalizacji w grze giełdowej „Wakacje na giełdzie”.']</td>\n",
       "      <td>1.0</td>\n",
       "      <td>0.0</td>\n",
       "      <td>1.99</td>\n",
       "    </tr>\n",
       "    <tr>\n",
       "      <th>2</th>\n",
       "      <td>2024-08-28</td>\n",
       "      <td>['Środkowa sesja tygodnia zakończyła się spadkami głównych indeksów na GPW, co kontrastowało ze wzrostami na najważniejszych parkietach europejskich rynków bazowych. Mocno ciążyła słabość złotego, a echem odbijały się szczegóły projektu budżetu państwa.\\xa0']</td>\n",
       "      <td>1.0</td>\n",
       "      <td>0.0</td>\n",
       "      <td>2.73</td>\n",
       "    </tr>\n",
       "    <tr>\n",
       "      <th>4</th>\n",
       "      <td>2024-08-27</td>\n",
       "      <td>['Nerwowa sesja na GPW zakończyła się ostatecznie zielonym kolorem dla WIG20, mWIG40 i WIG, dzięki mocnej ostatniej godzinie handlu. Głównym rozdającym były banki, których przecena ciążyła przez większość sesji głównym indeksom. Odrabianie strat w końcówce pozwoliło jednak przy wzrostach innych sektorów zakończyć dzień na plusie.']</td>\n",
       "      <td>0.0</td>\n",
       "      <td>-1.0</td>\n",
       "      <td>0.74</td>\n",
       "    </tr>\n",
       "    <tr>\n",
       "      <th>5</th>\n",
       "      <td>2024-08-23</td>\n",
       "      <td>['Mijający tydzień obfitował w dane makro z polskiej gospodarki, ale też wyniki największych spółek z WIG20. Tempo inwestycyjnej gry nadawane było jednak przez Amerykanów, oczekujących, jak reszta rynków finansowych, na przekaz płynący z dorocznej konferencji bankierów centralnych z Jackson Hole. W podsumowaniu giełdowego tygodnia rozmawiamy z Sobiesławem Kozłowskim z Noble Securities.']</td>\n",
       "      <td>1.0</td>\n",
       "      <td>0.0</td>\n",
       "      <td>1.98</td>\n",
       "    </tr>\n",
       "  </tbody>\n",
       "</table>\n",
       "</div>"
      ],
      "text/plain": [
       "         date  \\\n",
       "1  2024-08-30   \n",
       "0  2024-08-30   \n",
       "2  2024-08-28   \n",
       "4  2024-08-27   \n",
       "5  2024-08-23   \n",
       "\n",
       "                                                                                                                                                                                                                                                                                                                                                                                                          text  \\\n",
       "1                                                                                                                                     ['Ostatnia sesja miesiąca potwierdziła silne przywiązanie WIG20 do poziomu w okolicach 2400 pkt. W efekcie od połowy sierpnia obserwujemy trend boczny, z którego coraz trudniej się wyrwać. Portfelowe przetasowania zdecydowały o wyniku sesji i ogromnych obrotach.']   \n",
       "0  ['Ostatni tydzień wakacji na rynkach finansowych był podporządkowany wynikom Nvidii. Inwestorzy na krajowym parkiecie dostali natomiast raport CD Projektu. Kurs największego polskiego studia gier jest w tym roku najlepszy w portfelu spółek z WIG20, ale jego cena akcji zdaje się być coraz bardziej wymagająca. Nie ominiemy także podsumowania rywalizacji w grze giełdowej „Wakacje na giełdzie”.']   \n",
       "2                                                                                                                                          ['Środkowa sesja tygodnia zakończyła się spadkami głównych indeksów na GPW, co kontrastowało ze wzrostami na najważniejszych parkietach europejskich rynków bazowych. Mocno ciążyła słabość złotego, a echem odbijały się szczegóły projektu budżetu państwa.\\xa0']   \n",
       "4                                                                ['Nerwowa sesja na GPW zakończyła się ostatecznie zielonym kolorem dla WIG20, mWIG40 i WIG, dzięki mocnej ostatniej godzinie handlu. Głównym rozdającym były banki, których przecena ciążyła przez większość sesji głównym indeksom. Odrabianie strat w końcówce pozwoliło jednak przy wzrostach innych sektorów zakończyć dzień na plusie.']   \n",
       "5       ['Mijający tydzień obfitował w dane makro z polskiej gospodarki, ale też wyniki największych spółek z WIG20. Tempo inwestycyjnej gry nadawane było jednak przez Amerykanów, oczekujących, jak reszta rynków finansowych, na przekaz płynący z dorocznej konferencji bankierów centralnych z Jackson Hole. W podsumowaniu giełdowego tygodnia rozmawiamy z Sobiesławem Kozłowskim z Noble Securities.']   \n",
       "\n",
       "   sentiment_score_2_fold  sentiment_score_3_fold  sentiment_score_SO_PMI  \n",
       "1                     1.0                     0.0                    1.98  \n",
       "0                     1.0                     0.0                    1.99  \n",
       "2                     1.0                     0.0                    2.73  \n",
       "4                     0.0                    -1.0                    0.74  \n",
       "5                     1.0                     0.0                    1.98  "
      ]
     },
     "execution_count": 33,
     "metadata": {},
     "output_type": "execute_result"
    }
   ],
   "source": [
    "sentiment = articles[['date', \n",
    "                      'text', \n",
    "                      'sentiment_score_2_fold', \n",
    "                      'sentiment_score_3_fold', \n",
    "                      'sentiment_score_SO_PMI']]\n",
    "\n",
    "sentiment = sentiment.round({'sentiment_score_SO_PMI': 2})\n",
    "sentiment['date'] = sentiment['date'].dt.date\n",
    "sentiment.head()"
   ]
  },
  {
   "cell_type": "code",
   "execution_count": 34,
   "metadata": {},
   "outputs": [],
   "source": [
    "sentiment.to_csv('sentiment.csv')"
   ]
  }
 ],
 "metadata": {
  "kernelspec": {
   "display_name": "venv",
   "language": "python",
   "name": "python3"
  },
  "language_info": {
   "codemirror_mode": {
    "name": "ipython",
    "version": 3
   },
   "file_extension": ".py",
   "mimetype": "text/x-python",
   "name": "python",
   "nbconvert_exporter": "python",
   "pygments_lexer": "ipython3",
   "version": "3.12.1"
  }
 },
 "nbformat": 4,
 "nbformat_minor": 2
}
