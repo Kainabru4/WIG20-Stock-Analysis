{
 "cells": [
  {
   "cell_type": "code",
   "execution_count": 13,
   "metadata": {},
   "outputs": [],
   "source": [
    "#Imports packages\n",
    "import pandas as pd\n",
    "import numpy as np\n",
    "import matplotlib.pyplot as plt\n",
    "import matplotlib.dates as mdates\n",
    "import plotly.graph_objects as go\n",
    "import plotly.io as pio"
   ]
  },
  {
   "cell_type": "markdown",
   "metadata": {},
   "source": [
    "#### Daily Data - 5y"
   ]
  },
  {
   "cell_type": "code",
   "execution_count": 14,
   "metadata": {},
   "outputs": [
    {
     "data": {
      "application/vnd.microsoft.datawrangler.viewer.v0+json": {
       "columns": [
        {
         "name": "index",
         "rawType": "int64",
         "type": "integer"
        },
        {
         "name": "Date",
         "rawType": "datetime64[ns]",
         "type": "datetime"
        },
        {
         "name": "Open",
         "rawType": "float64",
         "type": "float"
        },
        {
         "name": "High",
         "rawType": "float64",
         "type": "float"
        },
        {
         "name": "Low",
         "rawType": "float64",
         "type": "float"
        },
        {
         "name": "Close",
         "rawType": "float64",
         "type": "float"
        },
        {
         "name": "Volume",
         "rawType": "float64",
         "type": "float"
        }
       ],
       "ref": "abcba883-b990-4ef3-9560-163dc64d7844",
       "rows": [
        [
         "0",
         "2019-06-03 00:00:00",
         "2239.12",
         "2248.09",
         "2227.89",
         "2237.71",
         "15759707.0"
        ],
        [
         "1",
         "2019-06-04 00:00:00",
         "2237.74",
         "2242.52",
         "2222.32",
         "2233.75",
         "18733701.0"
        ],
        [
         "2",
         "2019-06-05 00:00:00",
         "2237.23",
         "2242.22",
         "2219.94",
         "2223.27",
         "27022940.0"
        ],
        [
         "3",
         "2019-06-06 00:00:00",
         "2224.2",
         "2272.07",
         "2222.81",
         "2260.94",
         "43220594.0"
        ],
        [
         "4",
         "2019-06-07 00:00:00",
         "2260.52",
         "2287.39",
         "2260.52",
         "2280.6",
         "23636701.0"
        ]
       ],
       "shape": {
        "columns": 6,
        "rows": 5
       }
      },
      "text/html": [
       "<div>\n",
       "<style scoped>\n",
       "    .dataframe tbody tr th:only-of-type {\n",
       "        vertical-align: middle;\n",
       "    }\n",
       "\n",
       "    .dataframe tbody tr th {\n",
       "        vertical-align: top;\n",
       "    }\n",
       "\n",
       "    .dataframe thead th {\n",
       "        text-align: right;\n",
       "    }\n",
       "</style>\n",
       "<table border=\"1\" class=\"dataframe\">\n",
       "  <thead>\n",
       "    <tr style=\"text-align: right;\">\n",
       "      <th></th>\n",
       "      <th>Date</th>\n",
       "      <th>Open</th>\n",
       "      <th>High</th>\n",
       "      <th>Low</th>\n",
       "      <th>Close</th>\n",
       "      <th>Volume</th>\n",
       "    </tr>\n",
       "  </thead>\n",
       "  <tbody>\n",
       "    <tr>\n",
       "      <th>0</th>\n",
       "      <td>2019-06-03</td>\n",
       "      <td>2239.12</td>\n",
       "      <td>2248.09</td>\n",
       "      <td>2227.89</td>\n",
       "      <td>2237.71</td>\n",
       "      <td>15759707.0</td>\n",
       "    </tr>\n",
       "    <tr>\n",
       "      <th>1</th>\n",
       "      <td>2019-06-04</td>\n",
       "      <td>2237.74</td>\n",
       "      <td>2242.52</td>\n",
       "      <td>2222.32</td>\n",
       "      <td>2233.75</td>\n",
       "      <td>18733701.0</td>\n",
       "    </tr>\n",
       "    <tr>\n",
       "      <th>2</th>\n",
       "      <td>2019-06-05</td>\n",
       "      <td>2237.23</td>\n",
       "      <td>2242.22</td>\n",
       "      <td>2219.94</td>\n",
       "      <td>2223.27</td>\n",
       "      <td>27022940.0</td>\n",
       "    </tr>\n",
       "    <tr>\n",
       "      <th>3</th>\n",
       "      <td>2019-06-06</td>\n",
       "      <td>2224.20</td>\n",
       "      <td>2272.07</td>\n",
       "      <td>2222.81</td>\n",
       "      <td>2260.94</td>\n",
       "      <td>43220594.0</td>\n",
       "    </tr>\n",
       "    <tr>\n",
       "      <th>4</th>\n",
       "      <td>2019-06-07</td>\n",
       "      <td>2260.52</td>\n",
       "      <td>2287.39</td>\n",
       "      <td>2260.52</td>\n",
       "      <td>2280.60</td>\n",
       "      <td>23636701.0</td>\n",
       "    </tr>\n",
       "  </tbody>\n",
       "</table>\n",
       "</div>"
      ],
      "text/plain": [
       "        Date     Open     High      Low    Close      Volume\n",
       "0 2019-06-03  2239.12  2248.09  2227.89  2237.71  15759707.0\n",
       "1 2019-06-04  2237.74  2242.52  2222.32  2233.75  18733701.0\n",
       "2 2019-06-05  2237.23  2242.22  2219.94  2223.27  27022940.0\n",
       "3 2019-06-06  2224.20  2272.07  2222.81  2260.94  43220594.0\n",
       "4 2019-06-07  2260.52  2287.39  2260.52  2280.60  23636701.0"
      ]
     },
     "execution_count": 14,
     "metadata": {},
     "output_type": "execute_result"
    }
   ],
   "source": [
    "#Reads data\n",
    "daily = pd.read_csv('../data/raw/wig20_5d.csv')  \n",
    "#Changes date format\n",
    "daily['Data'] = pd.to_datetime(daily['Data']) \n",
    "#Renames columns\n",
    "daily.columns = ['Date', 'Open', 'High', 'Low', 'Close', 'Volume'] \n",
    "daily.head()"
   ]
  },
  {
   "cell_type": "code",
   "execution_count": 15,
   "metadata": {},
   "outputs": [
    {
     "data": {
      "application/vnd.microsoft.datawrangler.viewer.v0+json": {
       "columns": [
        {
         "name": "index",
         "rawType": "object",
         "type": "string"
        },
        {
         "name": "Open",
         "rawType": "float64",
         "type": "float"
        },
        {
         "name": "High",
         "rawType": "float64",
         "type": "float"
        },
        {
         "name": "Low",
         "rawType": "float64",
         "type": "float"
        },
        {
         "name": "Close",
         "rawType": "float64",
         "type": "float"
        },
        {
         "name": "Volume",
         "rawType": "float64",
         "type": "float"
        }
       ],
       "ref": "85ed6c12-0ed4-4f11-b8f9-195f27ac23e8",
       "rows": [
        [
         "count",
         "1316.0",
         "1316.0",
         "1316.0",
         "1316.0",
         "1316.0"
        ],
        [
         "mean",
         "2033.28",
         "2049.92",
         "2014.28",
         "2031.86",
         "24621584.69"
        ],
        [
         "std",
         "279.67",
         "278.63",
         "280.97",
         "279.96",
         "12934080.87"
        ],
        [
         "min",
         "1334.37",
         "1356.01",
         "1248.77",
         "1305.73",
         "5343204.0"
        ],
        [
         "25%",
         "1811.32",
         "1829.21",
         "1791.9",
         "1810.4",
         "16528860.75"
        ],
        [
         "50%",
         "2059.89",
         "2076.61",
         "2040.59",
         "2055.46",
         "21471464.5"
        ],
        [
         "75%",
         "2250.32",
         "2266.28",
         "2230.03",
         "2250.88",
         "28391008.5"
        ],
        [
         "max",
         "2585.49",
         "2600.53",
         "2581.95",
         "2593.1",
         "127493895.0"
        ]
       ],
       "shape": {
        "columns": 5,
        "rows": 8
       }
      },
      "text/html": [
       "<div>\n",
       "<style scoped>\n",
       "    .dataframe tbody tr th:only-of-type {\n",
       "        vertical-align: middle;\n",
       "    }\n",
       "\n",
       "    .dataframe tbody tr th {\n",
       "        vertical-align: top;\n",
       "    }\n",
       "\n",
       "    .dataframe thead th {\n",
       "        text-align: right;\n",
       "    }\n",
       "</style>\n",
       "<table border=\"1\" class=\"dataframe\">\n",
       "  <thead>\n",
       "    <tr style=\"text-align: right;\">\n",
       "      <th></th>\n",
       "      <th>Open</th>\n",
       "      <th>High</th>\n",
       "      <th>Low</th>\n",
       "      <th>Close</th>\n",
       "      <th>Volume</th>\n",
       "    </tr>\n",
       "  </thead>\n",
       "  <tbody>\n",
       "    <tr>\n",
       "      <th>count</th>\n",
       "      <td>1316.00</td>\n",
       "      <td>1316.00</td>\n",
       "      <td>1316.00</td>\n",
       "      <td>1316.00</td>\n",
       "      <td>1.316000e+03</td>\n",
       "    </tr>\n",
       "    <tr>\n",
       "      <th>mean</th>\n",
       "      <td>2033.28</td>\n",
       "      <td>2049.92</td>\n",
       "      <td>2014.28</td>\n",
       "      <td>2031.86</td>\n",
       "      <td>2.462158e+07</td>\n",
       "    </tr>\n",
       "    <tr>\n",
       "      <th>std</th>\n",
       "      <td>279.67</td>\n",
       "      <td>278.63</td>\n",
       "      <td>280.97</td>\n",
       "      <td>279.96</td>\n",
       "      <td>1.293408e+07</td>\n",
       "    </tr>\n",
       "    <tr>\n",
       "      <th>min</th>\n",
       "      <td>1334.37</td>\n",
       "      <td>1356.01</td>\n",
       "      <td>1248.77</td>\n",
       "      <td>1305.73</td>\n",
       "      <td>5.343204e+06</td>\n",
       "    </tr>\n",
       "    <tr>\n",
       "      <th>25%</th>\n",
       "      <td>1811.32</td>\n",
       "      <td>1829.21</td>\n",
       "      <td>1791.90</td>\n",
       "      <td>1810.40</td>\n",
       "      <td>1.652886e+07</td>\n",
       "    </tr>\n",
       "    <tr>\n",
       "      <th>50%</th>\n",
       "      <td>2059.89</td>\n",
       "      <td>2076.61</td>\n",
       "      <td>2040.59</td>\n",
       "      <td>2055.46</td>\n",
       "      <td>2.147146e+07</td>\n",
       "    </tr>\n",
       "    <tr>\n",
       "      <th>75%</th>\n",
       "      <td>2250.32</td>\n",
       "      <td>2266.28</td>\n",
       "      <td>2230.03</td>\n",
       "      <td>2250.88</td>\n",
       "      <td>2.839101e+07</td>\n",
       "    </tr>\n",
       "    <tr>\n",
       "      <th>max</th>\n",
       "      <td>2585.49</td>\n",
       "      <td>2600.53</td>\n",
       "      <td>2581.95</td>\n",
       "      <td>2593.10</td>\n",
       "      <td>1.274939e+08</td>\n",
       "    </tr>\n",
       "  </tbody>\n",
       "</table>\n",
       "</div>"
      ],
      "text/plain": [
       "          Open     High      Low    Close        Volume\n",
       "count  1316.00  1316.00  1316.00  1316.00  1.316000e+03\n",
       "mean   2033.28  2049.92  2014.28  2031.86  2.462158e+07\n",
       "std     279.67   278.63   280.97   279.96  1.293408e+07\n",
       "min    1334.37  1356.01  1248.77  1305.73  5.343204e+06\n",
       "25%    1811.32  1829.21  1791.90  1810.40  1.652886e+07\n",
       "50%    2059.89  2076.61  2040.59  2055.46  2.147146e+07\n",
       "75%    2250.32  2266.28  2230.03  2250.88  2.839101e+07\n",
       "max    2585.49  2600.53  2581.95  2593.10  1.274939e+08"
      ]
     },
     "execution_count": 15,
     "metadata": {},
     "output_type": "execute_result"
    }
   ],
   "source": [
    "#Calculates basic statistics\n",
    "daily.iloc[:,1:].describe().round(2) "
   ]
  },
  {
   "cell_type": "code",
   "execution_count": 16,
   "metadata": {},
   "outputs": [
    {
     "data": {
      "image/png": "[encoded data removed]",
      "text/plain": [
       "<Figure size 640x480 with 1 Axes>"
      ]
     },
     "metadata": {},
     "output_type": "display_data"
    }
   ],
   "source": [
    "#Creates a plot of 'open' price against time\n",
    "daily.plot(\n",
    "    x='Date', \n",
    "    y='Open', \n",
    "    color='navy', \n",
    "    linewidth=2\n",
    "    )\n",
    "\n",
    "ax = plt.gca()\n",
    "ax.xaxis.set_major_formatter(mdates.DateFormatter('%b %Y'))\n",
    "\n",
    "plt.xticks(rotation=90)\n",
    "plt.xlabel('Data')\n",
    "plt.ylabel('Cena Otwarcia')\n",
    "plt.show()"
   ]
  },
  {
   "cell_type": "code",
   "execution_count": 17,
   "metadata": {},
   "outputs": [],
   "source": [
    "#Ensures following plot opens in web\n",
    "pio.renderers.default = 'browser' "
   ]
  },
  {
   "cell_type": "code",
   "execution_count": 18,
   "metadata": {},
   "outputs": [],
   "source": [
    "#Creates candlestick plot\n",
    "fig = go.Figure(\n",
    "    data=[\n",
    "        go.Candlestick(\n",
    "            x = daily['Date'],\n",
    "            open = daily['Open'],\n",
    "            high = daily['High'],\n",
    "            low = daily['Low'],\n",
    "            close = daily['Close']\n",
    "            )\n",
    "        ]\n",
    "    )\n",
    "\n",
    "fig.show()"
   ]
  },
  {
   "cell_type": "markdown",
   "metadata": {},
   "source": [
    "#### Daily Data - 1y"
   ]
  },
  {
   "cell_type": "code",
   "execution_count": 19,
   "metadata": {},
   "outputs": [
    {
     "data": {
      "application/vnd.microsoft.datawrangler.viewer.v0+json": {
       "columns": [
        {
         "name": "index",
         "rawType": "int64",
         "type": "integer"
        },
        {
         "name": "Date",
         "rawType": "datetime64[ns]",
         "type": "datetime"
        },
        {
         "name": "Open",
         "rawType": "float64",
         "type": "float"
        },
        {
         "name": "High",
         "rawType": "float64",
         "type": "float"
        },
        {
         "name": "Low",
         "rawType": "float64",
         "type": "float"
        },
        {
         "name": "Close",
         "rawType": "float64",
         "type": "float"
        },
        {
         "name": "Volume",
         "rawType": "float64",
         "type": "float"
        }
       ],
       "ref": "8f110b03-29b3-44ee-b94d-8ea81549e395",
       "rows": [
        [
         "1001",
         "2023-06-01 00:00:00",
         "1902.02",
         "1949.5",
         "1902.02",
         "1946.21",
         "14941664.0"
        ],
        [
         "1002",
         "2023-06-02 00:00:00",
         "1959.23",
         "2018.09",
         "1959.23",
         "2018.09",
         "19817090.0"
        ],
        [
         "1003",
         "2023-06-05 00:00:00",
         "2019.7",
         "2053.48",
         "2010.92",
         "2020.07",
         "15886416.0"
        ],
        [
         "1004",
         "2023-06-06 00:00:00",
         "2017.83",
         "2060.37",
         "2016.18",
         "2053.44",
         "25672961.0"
        ],
        [
         "1005",
         "2023-06-07 00:00:00",
         "2052.54",
         "2055.49",
         "2027.06",
         "2036.31",
         "16027064.0"
        ]
       ],
       "shape": {
        "columns": 6,
        "rows": 5
       }
      },
      "text/html": [
       "<div>\n",
       "<style scoped>\n",
       "    .dataframe tbody tr th:only-of-type {\n",
       "        vertical-align: middle;\n",
       "    }\n",
       "\n",
       "    .dataframe tbody tr th {\n",
       "        vertical-align: top;\n",
       "    }\n",
       "\n",
       "    .dataframe thead th {\n",
       "        text-align: right;\n",
       "    }\n",
       "</style>\n",
       "<table border=\"1\" class=\"dataframe\">\n",
       "  <thead>\n",
       "    <tr style=\"text-align: right;\">\n",
       "      <th></th>\n",
       "      <th>Date</th>\n",
       "      <th>Open</th>\n",
       "      <th>High</th>\n",
       "      <th>Low</th>\n",
       "      <th>Close</th>\n",
       "      <th>Volume</th>\n",
       "    </tr>\n",
       "  </thead>\n",
       "  <tbody>\n",
       "    <tr>\n",
       "      <th>1001</th>\n",
       "      <td>2023-06-01</td>\n",
       "      <td>1902.02</td>\n",
       "      <td>1949.50</td>\n",
       "      <td>1902.02</td>\n",
       "      <td>1946.21</td>\n",
       "      <td>14941664.0</td>\n",
       "    </tr>\n",
       "    <tr>\n",
       "      <th>1002</th>\n",
       "      <td>2023-06-02</td>\n",
       "      <td>1959.23</td>\n",
       "      <td>2018.09</td>\n",
       "      <td>1959.23</td>\n",
       "      <td>2018.09</td>\n",
       "      <td>19817090.0</td>\n",
       "    </tr>\n",
       "    <tr>\n",
       "      <th>1003</th>\n",
       "      <td>2023-06-05</td>\n",
       "      <td>2019.70</td>\n",
       "      <td>2053.48</td>\n",
       "      <td>2010.92</td>\n",
       "      <td>2020.07</td>\n",
       "      <td>15886416.0</td>\n",
       "    </tr>\n",
       "    <tr>\n",
       "      <th>1004</th>\n",
       "      <td>2023-06-06</td>\n",
       "      <td>2017.83</td>\n",
       "      <td>2060.37</td>\n",
       "      <td>2016.18</td>\n",
       "      <td>2053.44</td>\n",
       "      <td>25672961.0</td>\n",
       "    </tr>\n",
       "    <tr>\n",
       "      <th>1005</th>\n",
       "      <td>2023-06-07</td>\n",
       "      <td>2052.54</td>\n",
       "      <td>2055.49</td>\n",
       "      <td>2027.06</td>\n",
       "      <td>2036.31</td>\n",
       "      <td>16027064.0</td>\n",
       "    </tr>\n",
       "  </tbody>\n",
       "</table>\n",
       "</div>"
      ],
      "text/plain": [
       "           Date     Open     High      Low    Close      Volume\n",
       "1001 2023-06-01  1902.02  1949.50  1902.02  1946.21  14941664.0\n",
       "1002 2023-06-02  1959.23  2018.09  1959.23  2018.09  19817090.0\n",
       "1003 2023-06-05  2019.70  2053.48  2010.92  2020.07  15886416.0\n",
       "1004 2023-06-06  2017.83  2060.37  2016.18  2053.44  25672961.0\n",
       "1005 2023-06-07  2052.54  2055.49  2027.06  2036.31  16027064.0"
      ]
     },
     "execution_count": 19,
     "metadata": {},
     "output_type": "execute_result"
    }
   ],
   "source": [
    "#Cuts data to contain around 1y worth of observations\n",
    "daily_1y = daily[daily['Date'] >= '2023-06-01'] \n",
    "daily_1y.head()"
   ]
  },
  {
   "cell_type": "code",
   "execution_count": 20,
   "metadata": {},
   "outputs": [
    {
     "data": {
      "application/vnd.microsoft.datawrangler.viewer.v0+json": {
       "columns": [
        {
         "name": "index",
         "rawType": "object",
         "type": "string"
        },
        {
         "name": "Open",
         "rawType": "float64",
         "type": "float"
        },
        {
         "name": "High",
         "rawType": "float64",
         "type": "float"
        },
        {
         "name": "Low",
         "rawType": "float64",
         "type": "float"
        },
        {
         "name": "Close",
         "rawType": "float64",
         "type": "float"
        },
        {
         "name": "Volume",
         "rawType": "float64",
         "type": "float"
        }
       ],
       "ref": "7b6656b2-69bc-4eb8-9fef-bcc0874a8b5f",
       "rows": [
        [
         "count",
         "315.0",
         "315.0",
         "315.0",
         "315.0",
         "315.0"
        ],
        [
         "mean",
         "2267.73",
         "2285.7",
         "2249.22",
         "2267.51",
         "18819823.99"
        ],
        [
         "std",
         "195.89",
         "194.3",
         "193.48",
         "193.55",
         "8777887.66"
        ],
        [
         "min",
         "1857.91",
         "1881.62",
         "1843.38",
         "1864.31",
         "8062372.0"
        ],
        [
         "25%",
         "2097.54",
         "2121.32",
         "2082.88",
         "2100.54",
         "13711094.5"
        ],
        [
         "50%",
         "2290.85",
         "2309.76",
         "2273.02",
         "2295.12",
         "16675294.0"
        ],
        [
         "75%",
         "2430.44",
         "2446.18",
         "2409.64",
         "2428.71",
         "20523906.5"
        ],
        [
         "max",
         "2585.49",
         "2600.53",
         "2581.95",
         "2593.1",
         "72844908.0"
        ]
       ],
       "shape": {
        "columns": 5,
        "rows": 8
       }
      },
      "text/html": [
       "<div>\n",
       "<style scoped>\n",
       "    .dataframe tbody tr th:only-of-type {\n",
       "        vertical-align: middle;\n",
       "    }\n",
       "\n",
       "    .dataframe tbody tr th {\n",
       "        vertical-align: top;\n",
       "    }\n",
       "\n",
       "    .dataframe thead th {\n",
       "        text-align: right;\n",
       "    }\n",
       "</style>\n",
       "<table border=\"1\" class=\"dataframe\">\n",
       "  <thead>\n",
       "    <tr style=\"text-align: right;\">\n",
       "      <th></th>\n",
       "      <th>Open</th>\n",
       "      <th>High</th>\n",
       "      <th>Low</th>\n",
       "      <th>Close</th>\n",
       "      <th>Volume</th>\n",
       "    </tr>\n",
       "  </thead>\n",
       "  <tbody>\n",
       "    <tr>\n",
       "      <th>count</th>\n",
       "      <td>315.00</td>\n",
       "      <td>315.00</td>\n",
       "      <td>315.00</td>\n",
       "      <td>315.00</td>\n",
       "      <td>315.00</td>\n",
       "    </tr>\n",
       "    <tr>\n",
       "      <th>mean</th>\n",
       "      <td>2267.73</td>\n",
       "      <td>2285.70</td>\n",
       "      <td>2249.22</td>\n",
       "      <td>2267.51</td>\n",
       "      <td>18819823.99</td>\n",
       "    </tr>\n",
       "    <tr>\n",
       "      <th>std</th>\n",
       "      <td>195.89</td>\n",
       "      <td>194.30</td>\n",
       "      <td>193.48</td>\n",
       "      <td>193.55</td>\n",
       "      <td>8777887.66</td>\n",
       "    </tr>\n",
       "    <tr>\n",
       "      <th>min</th>\n",
       "      <td>1857.91</td>\n",
       "      <td>1881.62</td>\n",
       "      <td>1843.38</td>\n",
       "      <td>1864.31</td>\n",
       "      <td>8062372.00</td>\n",
       "    </tr>\n",
       "    <tr>\n",
       "      <th>25%</th>\n",
       "      <td>2097.54</td>\n",
       "      <td>2121.32</td>\n",
       "      <td>2082.88</td>\n",
       "      <td>2100.54</td>\n",
       "      <td>13711094.50</td>\n",
       "    </tr>\n",
       "    <tr>\n",
       "      <th>50%</th>\n",
       "      <td>2290.85</td>\n",
       "      <td>2309.76</td>\n",
       "      <td>2273.02</td>\n",
       "      <td>2295.12</td>\n",
       "      <td>16675294.00</td>\n",
       "    </tr>\n",
       "    <tr>\n",
       "      <th>75%</th>\n",
       "      <td>2430.44</td>\n",
       "      <td>2446.18</td>\n",
       "      <td>2409.64</td>\n",
       "      <td>2428.71</td>\n",
       "      <td>20523906.50</td>\n",
       "    </tr>\n",
       "    <tr>\n",
       "      <th>max</th>\n",
       "      <td>2585.49</td>\n",
       "      <td>2600.53</td>\n",
       "      <td>2581.95</td>\n",
       "      <td>2593.10</td>\n",
       "      <td>72844908.00</td>\n",
       "    </tr>\n",
       "  </tbody>\n",
       "</table>\n",
       "</div>"
      ],
      "text/plain": [
       "          Open     High      Low    Close       Volume\n",
       "count   315.00   315.00   315.00   315.00       315.00\n",
       "mean   2267.73  2285.70  2249.22  2267.51  18819823.99\n",
       "std     195.89   194.30   193.48   193.55   8777887.66\n",
       "min    1857.91  1881.62  1843.38  1864.31   8062372.00\n",
       "25%    2097.54  2121.32  2082.88  2100.54  13711094.50\n",
       "50%    2290.85  2309.76  2273.02  2295.12  16675294.00\n",
       "75%    2430.44  2446.18  2409.64  2428.71  20523906.50\n",
       "max    2585.49  2600.53  2581.95  2593.10  72844908.00"
      ]
     },
     "execution_count": 20,
     "metadata": {},
     "output_type": "execute_result"
    }
   ],
   "source": [
    "#Calculates basic statistics\n",
    "daily_1y.iloc[:,1:].describe().round(2) "
   ]
  },
  {
   "cell_type": "code",
   "execution_count": 21,
   "metadata": {},
   "outputs": [
    {
     "data": {
      "image/png": "[encoded data removed]",
      "text/plain": [
       "<Figure size 640x480 with 1 Axes>"
      ]
     },
     "metadata": {},
     "output_type": "display_data"
    }
   ],
   "source": [
    "#Creates a plot of 'open' price against time\n",
    "daily_1y.plot(\n",
    "    x='Date', \n",
    "    y='Open', \n",
    "    color='navy', \n",
    "    linewidth=2\n",
    "    )\n",
    "\n",
    "ax = plt.gca()\n",
    "ax.xaxis.set_major_formatter(mdates.DateFormatter('%b %Y'))\n",
    "\n",
    "plt.xticks(rotation=90)\n",
    "plt.xlabel('Data')\n",
    "plt.ylabel('Cena Otwarcia')\n",
    "plt.show()"
   ]
  },
  {
   "cell_type": "code",
   "execution_count": 22,
   "metadata": {},
   "outputs": [],
   "source": [
    "#Creates candlestick plot\n",
    "fig = go.Figure(\n",
    "    data=[\n",
    "        go.Candlestick(\n",
    "            x = daily_1y['Date'],\n",
    "            open = daily_1y['Open'],\n",
    "            high = daily_1y['High'],\n",
    "            low = daily_1y['Low'],\n",
    "            close = daily_1y['Close']\n",
    "            )\n",
    "        ]\n",
    "    )\n",
    "\n",
    "fig.show()"
   ]
  },
  {
   "cell_type": "markdown",
   "metadata": {},
   "source": [
    "#### Weekly Data"
   ]
  },
  {
   "cell_type": "code",
   "execution_count": 23,
   "metadata": {},
   "outputs": [
    {
     "data": {
      "application/vnd.microsoft.datawrangler.viewer.v0+json": {
       "columns": [
        {
         "name": "index",
         "rawType": "int64",
         "type": "integer"
        },
        {
         "name": "Date",
         "rawType": "datetime64[ns]",
         "type": "datetime"
        },
        {
         "name": "Open",
         "rawType": "float64",
         "type": "float"
        },
        {
         "name": "High",
         "rawType": "float64",
         "type": "float"
        },
        {
         "name": "Low",
         "rawType": "float64",
         "type": "float"
        },
        {
         "name": "Close",
         "rawType": "float64",
         "type": "float"
        },
        {
         "name": "Volume",
         "rawType": "float64",
         "type": "float"
        }
       ],
       "ref": "bdc0e1eb-ed9b-4a13-b7ce-841b5ecc5992",
       "rows": [
        [
         "0",
         "2019-06-02 00:00:00",
         "2191.26",
         "2239.31",
         "2162.4",
         "2239.31",
         "140582020.0"
        ],
        [
         "1",
         "2019-06-09 00:00:00",
         "2239.12",
         "2287.39",
         "2219.94",
         "2280.6",
         "128373643.0"
        ],
        [
         "2",
         "2019-06-16 00:00:00",
         "2290.4",
         "2310.66",
         "2263.68",
         "2286.46",
         "123042052.0"
        ],
        [
         "3",
         "2019-06-23 00:00:00",
         "2286.57",
         "2343.66",
         "2269.87",
         "2308.32",
         "140002883.0"
        ],
        [
         "4",
         "2019-06-30 00:00:00",
         "2315.79",
         "2347.62",
         "2296.97",
         "2327.67",
         "142360949.0"
        ]
       ],
       "shape": {
        "columns": 6,
        "rows": 5
       }
      },
      "text/html": [
       "<div>\n",
       "<style scoped>\n",
       "    .dataframe tbody tr th:only-of-type {\n",
       "        vertical-align: middle;\n",
       "    }\n",
       "\n",
       "    .dataframe tbody tr th {\n",
       "        vertical-align: top;\n",
       "    }\n",
       "\n",
       "    .dataframe thead th {\n",
       "        text-align: right;\n",
       "    }\n",
       "</style>\n",
       "<table border=\"1\" class=\"dataframe\">\n",
       "  <thead>\n",
       "    <tr style=\"text-align: right;\">\n",
       "      <th></th>\n",
       "      <th>Date</th>\n",
       "      <th>Open</th>\n",
       "      <th>High</th>\n",
       "      <th>Low</th>\n",
       "      <th>Close</th>\n",
       "      <th>Volume</th>\n",
       "    </tr>\n",
       "  </thead>\n",
       "  <tbody>\n",
       "    <tr>\n",
       "      <th>0</th>\n",
       "      <td>2019-06-02</td>\n",
       "      <td>2191.26</td>\n",
       "      <td>2239.31</td>\n",
       "      <td>2162.40</td>\n",
       "      <td>2239.31</td>\n",
       "      <td>140582020.0</td>\n",
       "    </tr>\n",
       "    <tr>\n",
       "      <th>1</th>\n",
       "      <td>2019-06-09</td>\n",
       "      <td>2239.12</td>\n",
       "      <td>2287.39</td>\n",
       "      <td>2219.94</td>\n",
       "      <td>2280.60</td>\n",
       "      <td>128373643.0</td>\n",
       "    </tr>\n",
       "    <tr>\n",
       "      <th>2</th>\n",
       "      <td>2019-06-16</td>\n",
       "      <td>2290.40</td>\n",
       "      <td>2310.66</td>\n",
       "      <td>2263.68</td>\n",
       "      <td>2286.46</td>\n",
       "      <td>123042052.0</td>\n",
       "    </tr>\n",
       "    <tr>\n",
       "      <th>3</th>\n",
       "      <td>2019-06-23</td>\n",
       "      <td>2286.57</td>\n",
       "      <td>2343.66</td>\n",
       "      <td>2269.87</td>\n",
       "      <td>2308.32</td>\n",
       "      <td>140002883.0</td>\n",
       "    </tr>\n",
       "    <tr>\n",
       "      <th>4</th>\n",
       "      <td>2019-06-30</td>\n",
       "      <td>2315.79</td>\n",
       "      <td>2347.62</td>\n",
       "      <td>2296.97</td>\n",
       "      <td>2327.67</td>\n",
       "      <td>142360949.0</td>\n",
       "    </tr>\n",
       "  </tbody>\n",
       "</table>\n",
       "</div>"
      ],
      "text/plain": [
       "        Date     Open     High      Low    Close       Volume\n",
       "0 2019-06-02  2191.26  2239.31  2162.40  2239.31  140582020.0\n",
       "1 2019-06-09  2239.12  2287.39  2219.94  2280.60  128373643.0\n",
       "2 2019-06-16  2290.40  2310.66  2263.68  2286.46  123042052.0\n",
       "3 2019-06-23  2286.57  2343.66  2269.87  2308.32  140002883.0\n",
       "4 2019-06-30  2315.79  2347.62  2296.97  2327.67  142360949.0"
      ]
     },
     "execution_count": 23,
     "metadata": {},
     "output_type": "execute_result"
    }
   ],
   "source": [
    "#Reads data\n",
    "weekly = pd.read_csv('../data/raw/wig20_5w.csv')  \n",
    "#Changes date format\n",
    "weekly['Data'] = pd.to_datetime(weekly['Data']) \n",
    "#Renames columns\n",
    "weekly.columns = ['Date', 'Open', 'High', 'Low', 'Close', 'Volume'] \n",
    "weekly.head()"
   ]
  },
  {
   "cell_type": "code",
   "execution_count": 24,
   "metadata": {},
   "outputs": [
    {
     "data": {
      "application/vnd.microsoft.datawrangler.viewer.v0+json": {
       "columns": [
        {
         "name": "index",
         "rawType": "object",
         "type": "string"
        },
        {
         "name": "Open",
         "rawType": "float64",
         "type": "float"
        },
        {
         "name": "High",
         "rawType": "float64",
         "type": "float"
        },
        {
         "name": "Low",
         "rawType": "float64",
         "type": "float"
        },
        {
         "name": "Close",
         "rawType": "float64",
         "type": "float"
        },
        {
         "name": "Volume",
         "rawType": "float64",
         "type": "float"
        }
       ],
       "ref": "a0c704cc-4b2e-4a1f-99df-c774989a7faa",
       "rows": [
        [
         "count",
         "275.0",
         "275.0",
         "275.0",
         "275.0",
         "275.0"
        ],
        [
         "mean",
         "2033.29",
         "2076.78",
         "1988.79",
         "2032.38",
         "118336681.73"
        ],
        [
         "std",
         "279.79",
         "275.36",
         "283.33",
         "280.19",
         "50636575.65"
        ],
        [
         "min",
         "1342.4",
         "1409.55",
         "1248.77",
         "1365.97",
         "27170607.0"
        ],
        [
         "25%",
         "1808.98",
         "1852.74",
         "1763.19",
         "1804.14",
         "81342607.0"
        ],
        [
         "50%",
         "2062.33",
         "2121.65",
         "2010.92",
         "2064.12",
         "109667942.0"
        ],
        [
         "75%",
         "2254.02",
         "2282.36",
         "2215.38",
         "2252.81",
         "140604672.5"
        ],
        [
         "max",
         "2585.49",
         "2600.53",
         "2521.47",
         "2574.96",
         "385532275.0"
        ]
       ],
       "shape": {
        "columns": 5,
        "rows": 8
       }
      },
      "text/html": [
       "<div>\n",
       "<style scoped>\n",
       "    .dataframe tbody tr th:only-of-type {\n",
       "        vertical-align: middle;\n",
       "    }\n",
       "\n",
       "    .dataframe tbody tr th {\n",
       "        vertical-align: top;\n",
       "    }\n",
       "\n",
       "    .dataframe thead th {\n",
       "        text-align: right;\n",
       "    }\n",
       "</style>\n",
       "<table border=\"1\" class=\"dataframe\">\n",
       "  <thead>\n",
       "    <tr style=\"text-align: right;\">\n",
       "      <th></th>\n",
       "      <th>Open</th>\n",
       "      <th>High</th>\n",
       "      <th>Low</th>\n",
       "      <th>Close</th>\n",
       "      <th>Volume</th>\n",
       "    </tr>\n",
       "  </thead>\n",
       "  <tbody>\n",
       "    <tr>\n",
       "      <th>count</th>\n",
       "      <td>275.00</td>\n",
       "      <td>275.00</td>\n",
       "      <td>275.00</td>\n",
       "      <td>275.00</td>\n",
       "      <td>2.750000e+02</td>\n",
       "    </tr>\n",
       "    <tr>\n",
       "      <th>mean</th>\n",
       "      <td>2033.29</td>\n",
       "      <td>2076.78</td>\n",
       "      <td>1988.79</td>\n",
       "      <td>2032.38</td>\n",
       "      <td>1.183367e+08</td>\n",
       "    </tr>\n",
       "    <tr>\n",
       "      <th>std</th>\n",
       "      <td>279.79</td>\n",
       "      <td>275.36</td>\n",
       "      <td>283.33</td>\n",
       "      <td>280.19</td>\n",
       "      <td>5.063658e+07</td>\n",
       "    </tr>\n",
       "    <tr>\n",
       "      <th>min</th>\n",
       "      <td>1342.40</td>\n",
       "      <td>1409.55</td>\n",
       "      <td>1248.77</td>\n",
       "      <td>1365.97</td>\n",
       "      <td>2.717061e+07</td>\n",
       "    </tr>\n",
       "    <tr>\n",
       "      <th>25%</th>\n",
       "      <td>1808.98</td>\n",
       "      <td>1852.74</td>\n",
       "      <td>1763.19</td>\n",
       "      <td>1804.14</td>\n",
       "      <td>8.134261e+07</td>\n",
       "    </tr>\n",
       "    <tr>\n",
       "      <th>50%</th>\n",
       "      <td>2062.33</td>\n",
       "      <td>2121.65</td>\n",
       "      <td>2010.92</td>\n",
       "      <td>2064.12</td>\n",
       "      <td>1.096679e+08</td>\n",
       "    </tr>\n",
       "    <tr>\n",
       "      <th>75%</th>\n",
       "      <td>2254.02</td>\n",
       "      <td>2282.36</td>\n",
       "      <td>2215.38</td>\n",
       "      <td>2252.81</td>\n",
       "      <td>1.406047e+08</td>\n",
       "    </tr>\n",
       "    <tr>\n",
       "      <th>max</th>\n",
       "      <td>2585.49</td>\n",
       "      <td>2600.53</td>\n",
       "      <td>2521.47</td>\n",
       "      <td>2574.96</td>\n",
       "      <td>3.855323e+08</td>\n",
       "    </tr>\n",
       "  </tbody>\n",
       "</table>\n",
       "</div>"
      ],
      "text/plain": [
       "          Open     High      Low    Close        Volume\n",
       "count   275.00   275.00   275.00   275.00  2.750000e+02\n",
       "mean   2033.29  2076.78  1988.79  2032.38  1.183367e+08\n",
       "std     279.79   275.36   283.33   280.19  5.063658e+07\n",
       "min    1342.40  1409.55  1248.77  1365.97  2.717061e+07\n",
       "25%    1808.98  1852.74  1763.19  1804.14  8.134261e+07\n",
       "50%    2062.33  2121.65  2010.92  2064.12  1.096679e+08\n",
       "75%    2254.02  2282.36  2215.38  2252.81  1.406047e+08\n",
       "max    2585.49  2600.53  2521.47  2574.96  3.855323e+08"
      ]
     },
     "execution_count": 24,
     "metadata": {},
     "output_type": "execute_result"
    }
   ],
   "source": [
    "#Calculates basic statistics\n",
    "weekly.iloc[:,1:].describe().round(2) "
   ]
  },
  {
   "cell_type": "code",
   "execution_count": 25,
   "metadata": {},
   "outputs": [
    {
     "data": {
      "image/png": "[encoded data removed]",
      "text/plain": [
       "<Figure size 640x480 with 1 Axes>"
      ]
     },
     "metadata": {},
     "output_type": "display_data"
    }
   ],
   "source": [
    "#Creates a plot of 'open' price against time\n",
    "weekly.plot(\n",
    "    x='Date', \n",
    "    y='Open', \n",
    "    color='navy', \n",
    "    linewidth=2\n",
    "    )\n",
    "\n",
    "plt.xticks(rotation=90)\n",
    "plt.xlabel('Data')\n",
    "plt.ylabel('Cena Otwarcia')\n",
    "plt.show()"
   ]
  },
  {
   "cell_type": "code",
   "execution_count": 26,
   "metadata": {},
   "outputs": [],
   "source": [
    "#Creates candlestick plot\n",
    "fig = go.Figure(\n",
    "    data=[\n",
    "        go.Candlestick(\n",
    "            x = weekly['Date'],\n",
    "            open = weekly['Open'],\n",
    "            high = weekly['High'],\n",
    "            low = weekly['Low'],\n",
    "            close = weekly['Close']\n",
    "            )\n",
    "        ]\n",
    "    )\n",
    "\n",
    "fig.show()"
   ]
  }
 ],
 "metadata": {
  "kernelspec": {
   "display_name": "venv",
   "language": "python",
   "name": "python3"
  },
  "language_info": {
   "codemirror_mode": {
    "name": "ipython",
    "version": 3
   },
   "file_extension": ".py",
   "mimetype": "text/x-python",
   "name": "python",
   "nbconvert_exporter": "python",
   "pygments_lexer": "ipython3",
   "version": "3.12.1"
  }
 },
 "nbformat": 4,
 "nbformat_minor": 2
}
